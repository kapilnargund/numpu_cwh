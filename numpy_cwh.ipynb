{
 "cells": [
  {
   "cell_type": "markdown",
   "id": "5d657bc2",
   "metadata": {},
   "source": [
    "# notes\n",
    "\n",
    "- numpy provides storage efficiency, better way to handle data processing, it is fast\n",
    "- help for dynamic memory allocation (no concept of pointers in python, but with help of numpy we can access pointers)"
   ]
  },
  {
   "cell_type": "code",
   "execution_count": 1,
   "id": "6d343627",
   "metadata": {},
   "outputs": [
    {
     "data": {
      "text/plain": [
       "array([3, 2, 8, 9])"
      ]
     },
     "execution_count": 1,
     "metadata": {},
     "output_type": "execute_result"
    }
   ],
   "source": [
    "import numpy as np\n",
    "\n",
    "myarr = np.array([3,2,8,9])\n",
    "myarr"
   ]
  },
  {
   "cell_type": "code",
   "execution_count": 14,
   "id": "61c50ffa",
   "metadata": {},
   "outputs": [
    {
     "data": {
      "text/plain": [
       "array([  3,   2, -62,   9], dtype=int8)"
      ]
     },
     "execution_count": 14,
     "metadata": {},
     "output_type": "execute_result"
    }
   ],
   "source": [
    "myarr = np.array([3,2,85225666,9], np.int8) # for memory management you can give size to int but if you store \n",
    "# more than the given space it displays false values\n",
    "myarr"
   ]
  },
  {
   "cell_type": "code",
   "execution_count": 4,
   "id": "3d0853e9",
   "metadata": {},
   "outputs": [
    {
     "name": "stdout",
     "output_type": "stream",
     "text": [
      "[[2 7 9 5]\n",
      " [3 2 8 9]]\n",
      "shape (2, 4)\n",
      "dtype int32\n"
     ]
    },
    {
     "data": {
      "text/html": [
       "<div>\n",
       "<style scoped>\n",
       "    .dataframe tbody tr th:only-of-type {\n",
       "        vertical-align: middle;\n",
       "    }\n",
       "\n",
       "    .dataframe tbody tr th {\n",
       "        vertical-align: top;\n",
       "    }\n",
       "\n",
       "    .dataframe thead th {\n",
       "        text-align: right;\n",
       "    }\n",
       "</style>\n",
       "<table border=\"1\" class=\"dataframe\">\n",
       "  <thead>\n",
       "    <tr style=\"text-align: right;\">\n",
       "      <th></th>\n",
       "      <th>0</th>\n",
       "      <th>1</th>\n",
       "      <th>2</th>\n",
       "      <th>3</th>\n",
       "    </tr>\n",
       "  </thead>\n",
       "  <tbody>\n",
       "    <tr>\n",
       "      <th>0</th>\n",
       "      <td>2</td>\n",
       "      <td>7</td>\n",
       "      <td>9</td>\n",
       "      <td>5</td>\n",
       "    </tr>\n",
       "    <tr>\n",
       "      <th>1</th>\n",
       "      <td>3</td>\n",
       "      <td>2</td>\n",
       "      <td>8</td>\n",
       "      <td>9</td>\n",
       "    </tr>\n",
       "  </tbody>\n",
       "</table>\n",
       "</div>"
      ],
      "text/plain": [
       "   0  1  2  3\n",
       "0  2  7  9  5\n",
       "1  3  2  8  9"
      ]
     },
     "execution_count": 4,
     "metadata": {},
     "output_type": "execute_result"
    }
   ],
   "source": [
    "import numpy as np\n",
    "\n",
    "myarr = np.array([[2,7,9,5],[3,2,8,9]])\n",
    "print(myarr)\n",
    "\n",
    "myarr[1,1]\n",
    "\n",
    "print('shape',myarr.shape)\n",
    "print('dtype',myarr.dtype) # the u11 dtype is for string\n",
    "\n",
    "# to view in matrix form\n",
    "\n",
    "import pandas as pd\n",
    "myarr = np.array([[2,7,9,5],[3,2,8,9]])\n",
    "df1 = pd.DataFrame(myarr)\n",
    "df1"
   ]
  },
  {
   "cell_type": "code",
   "execution_count": 8,
   "id": "73ae2aba",
   "metadata": {},
   "outputs": [
    {
     "name": "stdout",
     "output_type": "stream",
     "text": [
      "[['2' '7' '9' '5']\n",
      " ['3' 'a' '8' '9']]\n",
      "shape (2, 4)\n",
      "dtype <U11\n",
      "\n",
      " the u11 dtype is for string, numpy automatically assigns the dtype to whole array if not given explicitly\n",
      "\n",
      " numpy assigns most complex elements dtype to whole array\n",
      "\n",
      " refer : https://danielmuellerkomorowska.com/tag/string/\n"
     ]
    },
    {
     "data": {
      "text/html": [
       "<div>\n",
       "<style scoped>\n",
       "    .dataframe tbody tr th:only-of-type {\n",
       "        vertical-align: middle;\n",
       "    }\n",
       "\n",
       "    .dataframe tbody tr th {\n",
       "        vertical-align: top;\n",
       "    }\n",
       "\n",
       "    .dataframe thead th {\n",
       "        text-align: right;\n",
       "    }\n",
       "</style>\n",
       "<table border=\"1\" class=\"dataframe\">\n",
       "  <thead>\n",
       "    <tr style=\"text-align: right;\">\n",
       "      <th></th>\n",
       "      <th>0</th>\n",
       "      <th>1</th>\n",
       "      <th>2</th>\n",
       "      <th>3</th>\n",
       "    </tr>\n",
       "  </thead>\n",
       "  <tbody>\n",
       "    <tr>\n",
       "      <th>0</th>\n",
       "      <td>2</td>\n",
       "      <td>7</td>\n",
       "      <td>9</td>\n",
       "      <td>5</td>\n",
       "    </tr>\n",
       "    <tr>\n",
       "      <th>1</th>\n",
       "      <td>3</td>\n",
       "      <td>a</td>\n",
       "      <td>8</td>\n",
       "      <td>9</td>\n",
       "    </tr>\n",
       "  </tbody>\n",
       "</table>\n",
       "</div>"
      ],
      "text/plain": [
       "   0  1  2  3\n",
       "0  2  7  9  5\n",
       "1  3  a  8  9"
      ]
     },
     "execution_count": 8,
     "metadata": {},
     "output_type": "execute_result"
    }
   ],
   "source": [
    "import numpy as np\n",
    "\n",
    "myarr = np.array([[2,7,9,5],[3,'a',8,9]])\n",
    "print(myarr)\n",
    "\n",
    "myarr[1,1]\n",
    "\n",
    "print('shape',myarr.shape)\n",
    "print('dtype',myarr.dtype) # the u11 dtype is for string, it automatically assigns the dtype to whole array \n",
    "# if not given explicitly\n",
    "print('\\n the u11 dtype is for string, numpy automatically assigns the dtype to whole array if not given explicitly')\n",
    "print('\\n numpy assigns most complex elements dtype to whole array')\n",
    "print('\\n refer : https://danielmuellerkomorowska.com/tag/string/')\n",
    "\n",
    "# to view in matrix form\n",
    "\n",
    "import pandas as pd\n",
    "myarr = np.array([[2,7,9,5],[3,'a',8,9]])\n",
    "df1 = pd.DataFrame(myarr)\n",
    "df1"
   ]
  },
  {
   "cell_type": "code",
   "execution_count": 15,
   "id": "7c9c3470",
   "metadata": {},
   "outputs": [
    {
     "name": "stdout",
     "output_type": "stream",
     "text": [
      "int32\n",
      "object\n"
     ]
    }
   ],
   "source": [
    "# assigning dtype explicitly\n",
    "\n",
    "arr = np.array([3,2,1])\n",
    "print(arr.dtype)\n",
    "\n",
    "arr = np.array([3,2,1], dtype=object) # assigning dtype explicitly\n",
    "print(arr.dtype)"
   ]
  },
  {
   "cell_type": "code",
   "execution_count": 47,
   "id": "b94a2569",
   "metadata": {},
   "outputs": [
    {
     "name": "stdout",
     "output_type": "stream",
     "text": [
      "[list([2, 7, 623]) list([3, 2, 8, 9])]\n",
      "shape (2,)\n"
     ]
    },
    {
     "name": "stderr",
     "output_type": "stream",
     "text": [
      "C:\\Users\\PC\\AppData\\Local\\Temp\\ipykernel_9884\\868813042.py:3: VisibleDeprecationWarning: Creating an ndarray from ragged nested sequences (which is a list-or-tuple of lists-or-tuples-or ndarrays with different lengths or shapes) is deprecated. If you meant to do this, you must specify 'dtype=object' when creating the ndarray.\n",
      "  myarr = np.array([[2,7,623],[3,2,8,9]]) # if the size of internal array is not equal it considers it as array of list\n",
      "C:\\Users\\PC\\AppData\\Local\\Temp\\ipykernel_9884\\868813042.py:11: VisibleDeprecationWarning: Creating an ndarray from ragged nested sequences (which is a list-or-tuple of lists-or-tuples-or ndarrays with different lengths or shapes) is deprecated. If you meant to do this, you must specify 'dtype=object' when creating the ndarray.\n",
      "  myarr = np.array([[2,7,623],[3,2,8,9]])\n"
     ]
    },
    {
     "data": {
      "text/html": [
       "<div>\n",
       "<style scoped>\n",
       "    .dataframe tbody tr th:only-of-type {\n",
       "        vertical-align: middle;\n",
       "    }\n",
       "\n",
       "    .dataframe tbody tr th {\n",
       "        vertical-align: top;\n",
       "    }\n",
       "\n",
       "    .dataframe thead th {\n",
       "        text-align: right;\n",
       "    }\n",
       "</style>\n",
       "<table border=\"1\" class=\"dataframe\">\n",
       "  <thead>\n",
       "    <tr style=\"text-align: right;\">\n",
       "      <th></th>\n",
       "      <th>0</th>\n",
       "    </tr>\n",
       "  </thead>\n",
       "  <tbody>\n",
       "    <tr>\n",
       "      <th>0</th>\n",
       "      <td>[2, 7, 623]</td>\n",
       "    </tr>\n",
       "    <tr>\n",
       "      <th>1</th>\n",
       "      <td>[3, 2, 8, 9]</td>\n",
       "    </tr>\n",
       "  </tbody>\n",
       "</table>\n",
       "</div>"
      ],
      "text/plain": [
       "              0\n",
       "0   [2, 7, 623]\n",
       "1  [3, 2, 8, 9]"
      ]
     },
     "execution_count": 47,
     "metadata": {},
     "output_type": "execute_result"
    }
   ],
   "source": [
    "import numpy as np\n",
    "\n",
    "myarr = np.array([[2,7,623],[3,2,8,9]]) # if the size of internal array is not equal it considers it as array of list\n",
    "print(myarr)\n",
    "\n",
    "print('shape',myarr.shape)\n",
    "\n",
    "# to view in matrix form\n",
    "\n",
    "import pandas as pd\n",
    "myarr = np.array([[2,7,623],[3,2,8,9]])\n",
    "df1 = pd.DataFrame(myarr)\n",
    "df1"
   ]
  },
  {
   "cell_type": "code",
   "execution_count": 56,
   "id": "59525df1",
   "metadata": {},
   "outputs": [
    {
     "name": "stdout",
     "output_type": "stream",
     "text": [
      "before : \n",
      " [[2 7 9 5]\n",
      " [3 2 8 9]]\n",
      "after : \n",
      " [[2 7 9 5]\n",
      " [3 4 8 9]]\n"
     ]
    }
   ],
   "source": [
    "myarr = np.array([[2,7,9,5],[3,2,8,9]])\n",
    "print('before : \\n',myarr)\n",
    "\n",
    "myarr[1,1] = 4 # modify element of an array\n",
    "\n",
    "print('after : \\n',myarr)"
   ]
  },
  {
   "cell_type": "markdown",
   "id": "538a277c",
   "metadata": {},
   "source": [
    "## 5 general array creation methods:\n",
    "\n",
    "#### conversion from other python structures"
   ]
  },
  {
   "cell_type": "code",
   "execution_count": 58,
   "id": "272b0d2c",
   "metadata": {},
   "outputs": [
    {
     "name": "stdout",
     "output_type": "stream",
     "text": [
      "[[2 7 9 2]\n",
      " [8 4 7 6]]\n",
      "int32\n"
     ]
    }
   ],
   "source": [
    "listarray = np.array([[2,7,9,2],[8,4,7,6]])\n",
    "print(listarray)\n",
    "print(listarray.dtype)"
   ]
  },
  {
   "cell_type": "code",
   "execution_count": 60,
   "id": "8e642120",
   "metadata": {},
   "outputs": [
    {
     "data": {
      "text/plain": [
       "array({25, 78, 14}, dtype=object)"
      ]
     },
     "execution_count": 60,
     "metadata": {},
     "output_type": "execute_result"
    }
   ],
   "source": [
    "np.array({25,78,14}) # notice that dtype is object which is not efficient, always prefer to use array"
   ]
  },
  {
   "cell_type": "code",
   "execution_count": null,
   "id": "12423421",
   "metadata": {},
   "outputs": [],
   "source": []
  },
  {
   "cell_type": "markdown",
   "id": "7906a5eb",
   "metadata": {},
   "source": [
    "#### intrinsic numpy array creation objects"
   ]
  },
  {
   "cell_type": "markdown",
   "id": "ca2a25c8",
   "metadata": {},
   "source": [
    "- np.zeros"
   ]
  },
  {
   "cell_type": "code",
   "execution_count": 61,
   "id": "9b27afb1",
   "metadata": {},
   "outputs": [
    {
     "data": {
      "text/plain": [
       "array([[0., 0., 0., 0., 0.],\n",
       "       [0., 0., 0., 0., 0.]])"
      ]
     },
     "execution_count": 61,
     "metadata": {},
     "output_type": "execute_result"
    }
   ],
   "source": [
    "zeros = np.zeros(([2,5])) # returns array of floating zeros of given shape\n",
    "zeros"
   ]
  },
  {
   "cell_type": "code",
   "execution_count": null,
   "id": "b73e608b",
   "metadata": {},
   "outputs": [],
   "source": []
  },
  {
   "cell_type": "markdown",
   "id": "c008298b",
   "metadata": {},
   "source": [
    "- np.arange()"
   ]
  },
  {
   "cell_type": "code",
   "execution_count": 62,
   "id": "4efc889f",
   "metadata": {},
   "outputs": [
    {
     "data": {
      "text/plain": [
       "array([0, 1, 2, 3, 4, 5, 6, 7, 8, 9])"
      ]
     },
     "execution_count": 62,
     "metadata": {},
     "output_type": "execute_result"
    }
   ],
   "source": [
    "rng = np.arange(10) # creates array of specified range(n-1)\n",
    "rng"
   ]
  },
  {
   "cell_type": "code",
   "execution_count": 63,
   "id": "396b6b25",
   "metadata": {},
   "outputs": [
    {
     "name": "stdout",
     "output_type": "stream",
     "text": [
      "A\n",
      " [[0 1]\n",
      " [2 3]] \n",
      "\n",
      "A\n",
      " [4 5 6 7 8 9] \n",
      "\n",
      "A\n",
      " [ 4  7 10 13 16 19] \n",
      "\n"
     ]
    }
   ],
   "source": [
    "print(\"A\\n\", np.arange(4).reshape(2, 2), \"\\n\") # 2d array\n",
    "print(\"A\\n\", np.arange(4, 10), \"\\n\")\n",
    "print(\"A\\n\", np.arange(4, 20, 3), \"\\n\")"
   ]
  },
  {
   "cell_type": "code",
   "execution_count": null,
   "id": "fe0a63bc",
   "metadata": {},
   "outputs": [],
   "source": []
  },
  {
   "cell_type": "markdown",
   "id": "e66663a7",
   "metadata": {},
   "source": [
    "- np.linspace(start, end, array_length)"
   ]
  },
  {
   "cell_type": "code",
   "execution_count": 67,
   "id": "484876ce",
   "metadata": {},
   "outputs": [
    {
     "data": {
      "text/plain": [
       "array([2.  , 2.25, 2.5 , 2.75, 3.  ])"
      ]
     },
     "execution_count": 67,
     "metadata": {},
     "output_type": "execute_result"
    }
   ],
   "source": [
    "# end - start = ans, then ans / (array_length-1)\n",
    "# 3-2 = 1, 1 / 4 = 0.25, hence 2,2.25,2.5,2.75,3\n",
    "lnspc = np.linspace(2,3,5)\n",
    "lnspc"
   ]
  },
  {
   "cell_type": "code",
   "execution_count": null,
   "id": "624de923",
   "metadata": {},
   "outputs": [],
   "source": []
  },
  {
   "cell_type": "markdown",
   "id": "b4a3e20c",
   "metadata": {},
   "source": [
    "- np.empty()"
   ]
  },
  {
   "cell_type": "code",
   "execution_count": 17,
   "id": "758f0f62",
   "metadata": {},
   "outputs": [
    {
     "data": {
      "text/plain": [
       "array([[4.73517493e-120, 7.76435379e+217, 1.71872056e+161,\n",
       "        8.82142681e+199, 6.32300954e+233, 1.96101067e+243],\n",
       "       [9.47069335e-154, 1.91315233e-070, 1.27921601e-152,\n",
       "        3.59363102e+246, 1.76540132e+137, 1.05855590e+200],\n",
       "       [2.04747568e+161, 1.67494831e+243, 3.65299313e+233,\n",
       "        6.01124019e+175, 6.38182106e+175, 2.20132030e-152],\n",
       "       [1.96088859e+243, 6.32192024e-043, 2.64218506e-061,\n",
       "        2.71743166e-033, 1.01388782e-070, 3.54662380e+160]])"
      ]
     },
     "execution_count": 17,
     "metadata": {},
     "output_type": "execute_result"
    }
   ],
   "source": [
    "emp = np.empty((4,6)) # inputs random values for a given array shape\n",
    "emp"
   ]
  },
  {
   "cell_type": "code",
   "execution_count": 79,
   "id": "77e7c66d",
   "metadata": {},
   "outputs": [
    {
     "data": {
      "text/plain": [
       "array([2.  , 2.25, 2.5 , 2.75, 3.  ])"
      ]
     },
     "execution_count": 79,
     "metadata": {},
     "output_type": "execute_result"
    }
   ],
   "source": [
    "emp_like = np.empty_like(lnspc) # helps create a similar shape array which we pass in argument \n",
    "emp_like"
   ]
  },
  {
   "cell_type": "code",
   "execution_count": null,
   "id": "80306116",
   "metadata": {},
   "outputs": [],
   "source": []
  },
  {
   "cell_type": "markdown",
   "id": "10d858f3",
   "metadata": {},
   "source": [
    "- np.indentity()"
   ]
  },
  {
   "cell_type": "code",
   "execution_count": 83,
   "id": "833e220c",
   "metadata": {},
   "outputs": [
    {
     "data": {
      "text/plain": [
       "array([[1., 0., 0., 0., 0., 0., 0., 0., 0., 0.],\n",
       "       [0., 1., 0., 0., 0., 0., 0., 0., 0., 0.],\n",
       "       [0., 0., 1., 0., 0., 0., 0., 0., 0., 0.],\n",
       "       [0., 0., 0., 1., 0., 0., 0., 0., 0., 0.],\n",
       "       [0., 0., 0., 0., 1., 0., 0., 0., 0., 0.],\n",
       "       [0., 0., 0., 0., 0., 1., 0., 0., 0., 0.],\n",
       "       [0., 0., 0., 0., 0., 0., 1., 0., 0., 0.],\n",
       "       [0., 0., 0., 0., 0., 0., 0., 1., 0., 0.],\n",
       "       [0., 0., 0., 0., 0., 0., 0., 0., 1., 0.],\n",
       "       [0., 0., 0., 0., 0., 0., 0., 0., 0., 1.]])"
      ]
     },
     "execution_count": 83,
     "metadata": {},
     "output_type": "execute_result"
    }
   ],
   "source": [
    "ide = np.identity(10)\n",
    "ide"
   ]
  },
  {
   "cell_type": "code",
   "execution_count": null,
   "id": "3d3376d3",
   "metadata": {},
   "outputs": [],
   "source": []
  },
  {
   "cell_type": "markdown",
   "id": "a582db33",
   "metadata": {},
   "source": [
    "- reshape() and ravel() functions"
   ]
  },
  {
   "cell_type": "code",
   "execution_count": 100,
   "id": "a126904d",
   "metadata": {},
   "outputs": [
    {
     "name": "stdout",
     "output_type": "stream",
     "text": [
      "(99,)\n"
     ]
    },
    {
     "data": {
      "text/plain": [
       "array([ 0,  1,  2,  3,  4,  5,  6,  7,  8,  9, 10, 11, 12, 13, 14, 15, 16,\n",
       "       17, 18, 19, 20, 21, 22, 23, 24, 25, 26, 27, 28, 29, 30, 31, 32, 33,\n",
       "       34, 35, 36, 37, 38, 39, 40, 41, 42, 43, 44, 45, 46, 47, 48, 49, 50,\n",
       "       51, 52, 53, 54, 55, 56, 57, 58, 59, 60, 61, 62, 63, 64, 65, 66, 67,\n",
       "       68, 69, 70, 71, 72, 73, 74, 75, 76, 77, 78, 79, 80, 81, 82, 83, 84,\n",
       "       85, 86, 87, 88, 89, 90, 91, 92, 93, 94, 95, 96, 97, 98])"
      ]
     },
     "execution_count": 100,
     "metadata": {},
     "output_type": "execute_result"
    }
   ],
   "source": [
    "arr = np.arange(99)\n",
    "print(arr.shape)\n",
    "arr"
   ]
  },
  {
   "cell_type": "code",
   "execution_count": 106,
   "id": "d7823a89",
   "metadata": {},
   "outputs": [
    {
     "name": "stdout",
     "output_type": "stream",
     "text": [
      "[[ 0  1  2  3  4  5  6  7  8  9 10 11 12 13 14 15 16 17 18 19 20 21 22 23\n",
      "  24 25 26 27 28 29 30 31 32]\n",
      " [33 34 35 36 37 38 39 40 41 42 43 44 45 46 47 48 49 50 51 52 53 54 55 56\n",
      "  57 58 59 60 61 62 63 64 65]\n",
      " [66 67 68 69 70 71 72 73 74 75 76 77 78 79 80 81 82 83 84 85 86 87 88 89\n",
      "  90 91 92 93 94 95 96 97 98]]\n",
      "shape of array :  (3, 33)\n"
     ]
    }
   ],
   "source": [
    "arr = arr.reshape(3,33)\n",
    "print(arr)\n",
    "print('shape of array : ',arr.shape)"
   ]
  },
  {
   "cell_type": "code",
   "execution_count": 102,
   "id": "5b0ef8f4",
   "metadata": {},
   "outputs": [
    {
     "ename": "ValueError",
     "evalue": "cannot reshape array of size 99 into shape (3,31)",
     "output_type": "error",
     "traceback": [
      "\u001b[1;31m---------------------------------------------------------------------------\u001b[0m",
      "\u001b[1;31mValueError\u001b[0m                                Traceback (most recent call last)",
      "Input \u001b[1;32mIn [102]\u001b[0m, in \u001b[0;36m<cell line: 1>\u001b[1;34m()\u001b[0m\n\u001b[1;32m----> 1\u001b[0m \u001b[43marr\u001b[49m\u001b[38;5;241;43m.\u001b[39;49m\u001b[43mreshape\u001b[49m\u001b[43m(\u001b[49m\u001b[38;5;241;43m3\u001b[39;49m\u001b[43m,\u001b[49m\u001b[38;5;241;43m31\u001b[39;49m\u001b[43m)\u001b[49m\n",
      "\u001b[1;31mValueError\u001b[0m: cannot reshape array of size 99 into shape (3,31)"
     ]
    }
   ],
   "source": [
    "arr.reshape(3,31) # not allowed because 3*31 = 93 which is not equal to length of arr"
   ]
  },
  {
   "cell_type": "code",
   "execution_count": 104,
   "id": "35b09195",
   "metadata": {},
   "outputs": [
    {
     "name": "stdout",
     "output_type": "stream",
     "text": [
      "(99,)\n"
     ]
    },
    {
     "data": {
      "text/plain": [
       "array([ 0,  1,  2,  3,  4,  5,  6,  7,  8,  9, 10, 11, 12, 13, 14, 15, 16,\n",
       "       17, 18, 19, 20, 21, 22, 23, 24, 25, 26, 27, 28, 29, 30, 31, 32, 33,\n",
       "       34, 35, 36, 37, 38, 39, 40, 41, 42, 43, 44, 45, 46, 47, 48, 49, 50,\n",
       "       51, 52, 53, 54, 55, 56, 57, 58, 59, 60, 61, 62, 63, 64, 65, 66, 67,\n",
       "       68, 69, 70, 71, 72, 73, 74, 75, 76, 77, 78, 79, 80, 81, 82, 83, 84,\n",
       "       85, 86, 87, 88, 89, 90, 91, 92, 93, 94, 95, 96, 97, 98])"
      ]
     },
     "execution_count": 104,
     "metadata": {},
     "output_type": "execute_result"
    }
   ],
   "source": [
    "arr = arr.ravel() # to convert back to 1d array\n",
    "print(arr.shape)\n",
    "arr"
   ]
  },
  {
   "cell_type": "code",
   "execution_count": null,
   "id": "32e46c10",
   "metadata": {},
   "outputs": [],
   "source": []
  },
  {
   "cell_type": "markdown",
   "id": "05eeff11",
   "metadata": {},
   "source": [
    "# numpy axis"
   ]
  },
  {
   "cell_type": "code",
   "execution_count": null,
   "id": "a2382d9c",
   "metadata": {},
   "outputs": [],
   "source": []
  },
  {
   "cell_type": "code",
   "execution_count": null,
   "id": "772c65ec",
   "metadata": {},
   "outputs": [],
   "source": []
  },
  {
   "cell_type": "code",
   "execution_count": null,
   "id": "b02e5bb8",
   "metadata": {},
   "outputs": [],
   "source": []
  },
  {
   "cell_type": "code",
   "execution_count": null,
   "id": "9f28e264",
   "metadata": {},
   "outputs": [],
   "source": []
  },
  {
   "cell_type": "code",
   "execution_count": null,
   "id": "971e27f9",
   "metadata": {},
   "outputs": [],
   "source": []
  },
  {
   "cell_type": "code",
   "execution_count": null,
   "id": "738a3f77",
   "metadata": {},
   "outputs": [],
   "source": []
  }
 ],
 "metadata": {
  "kernelspec": {
   "display_name": "Python 3 (ipykernel)",
   "language": "python",
   "name": "python3"
  },
  "language_info": {
   "codemirror_mode": {
    "name": "ipython",
    "version": 3
   },
   "file_extension": ".py",
   "mimetype": "text/x-python",
   "name": "python",
   "nbconvert_exporter": "python",
   "pygments_lexer": "ipython3",
   "version": "3.8.10"
  }
 },
 "nbformat": 4,
 "nbformat_minor": 5
}
